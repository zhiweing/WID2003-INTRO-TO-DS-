{
  "nbformat": 4,
  "nbformat_minor": 0,
  "metadata": {
    "colab": {
      "provenance": [],
      "mount_file_id": "1wC0Nttv_tSeK9YrHx7f5ADJ1UmqFGZt9",
      "authorship_tag": "ABX9TyOtun155D0Fow2uIn6Yu8qS",
      "include_colab_link": true
    },
    "kernelspec": {
      "name": "python3",
      "display_name": "Python 3"
    },
    "language_info": {
      "name": "python"
    }
  },
  "cells": [
    {
      "cell_type": "markdown",
      "metadata": {
        "id": "view-in-github",
        "colab_type": "text"
      },
      "source": [
        "<a href=\"https://colab.research.google.com/github/zhiweing/WID2003-INTRO-TO-DS-/blob/main/Sleep_Health_Analysis.ipynb\" target=\"_parent\"><img src=\"https://colab.research.google.com/assets/colab-badge.svg\" alt=\"Open In Colab\"/></a>"
      ]
    },
    {
      "cell_type": "code",
      "source": [
        "import pandas as pd\n",
        "DATA_DIR_1 =\"/content/drive/MyDrive/WIE2003 Dataset/Sleep_health_and_lifestyle_dataset.csv\"\n",
        "Sleep_Health_df = pd.read_csv (DATA_DIR_1, header=0)"
      ],
      "metadata": {
        "id": "ZpRGTRZkYMY-"
      },
      "execution_count": 4,
      "outputs": []
    }
  ]
}